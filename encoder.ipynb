{
 "cells": [
  {
   "cell_type": "code",
   "execution_count": 1,
   "metadata": {},
   "outputs": [],
   "source": [
    "# imports\n",
    "import node_file\n",
    "import frequencies\n",
    "import queue\n",
    "import os"
   ]
  },
  {
   "cell_type": "code",
   "execution_count": 2,
   "metadata": {},
   "outputs": [],
   "source": [
    "# Create data queue with the frequencies of each letter.\n",
    "# Use priority queue to retrieve nodes in ascending order by tuple (frequency, node)\n",
    "data_queue = queue.PriorityQueue()\n",
    "for letter in frequencies.english_alphabet_frequencies:\n",
    "    # add frequency and letter information to node\n",
    "    letter_node = node_file.Node(value=letter[0], letter=letter[1])\n",
    "    data_queue.put((letter_node.value, letter_node))"
   ]
  },
  {
   "cell_type": "code",
   "execution_count": 3,
   "metadata": {},
   "outputs": [
    {
     "name": "stdout",
     "output_type": "stream",
     "text": [
      "Queue left: 23\n",
      "Queue left: 22\n",
      "Queue left: 21\n",
      "Queue left: 20\n",
      "Queue left: 19\n",
      "Queue left: 18\n",
      "Queue left: 17\n",
      "Queue left: 16\n",
      "Queue left: 15\n",
      "Queue left: 14\n",
      "Queue left: 13\n",
      "Queue left: 12\n",
      "Queue left: 11\n",
      "Queue left: 10\n",
      "Queue left: 9\n",
      "Queue left: 8\n",
      "Queue left: 7\n",
      "Queue left: 6\n",
      "Queue left: 5\n",
      "Queue left: 4\n",
      "Queue left: 3\n",
      "Queue left: 2\n",
      "Queue left: 1\n",
      "Queue left: 0\n",
      "Constructed Tree\n"
     ]
    }
   ],
   "source": [
    "# perform initial tree generation\n",
    "left_leaf = data_queue.get()[1]\n",
    "right_leaf = data_queue.get()[1]\n",
    "# we are adding the values of the nodes to this parent node to maintain frequency hierarchy\n",
    "tree_parent_node = node_file.Node(value=(left_leaf.value+right_leaf.value), letter=None, left=left_leaf, right=right_leaf)\n",
    "\n",
    "# continue adding all the nodes like above.\n",
    "while data_queue.qsize() != 0:\n",
    "    current_node = data_queue.get()[1]\n",
    "    print(f\"Queue left: {data_queue.qsize()}\")\n",
    "    new_tree_parent_node = node_file.Node(value=(current_node.value+tree_parent_node.value), letter=None,\n",
    "                                left=current_node, right=tree_parent_node)\n",
    "    tree_parent_node = new_tree_parent_node\n",
    "\n",
    "print(\"Constructed Tree\")\n",
    "\n",
    "\n"
   ]
  },
  {
   "cell_type": "code",
   "execution_count": 4,
   "metadata": {},
   "outputs": [],
   "source": [
    "\n",
    "# init traversing the tree\n",
    "current_node = new_tree_parent_node\n",
    "generated_encodings = {}\n",
    "current_encoding = \"\"\n",
    "\n",
    "# traverse the tree until all the letters have new encodings\n",
    "while current_node is not None:\n",
    "    if current_node.left is not None:\n",
    "        left_node = current_node.left\n",
    "        if left_node.letter is not None:\n",
    "            generated_encodings[left_node.letter] = current_encoding + \"0\"\n",
    "\n",
    "\n",
    "    if current_node.right is not None:\n",
    "        right_node = current_node.right\n",
    "        current_encoding += \"1\" \n",
    "        if right_node.letter is not None:\n",
    "            generated_encodings[right_node.letter] = current_encoding\n",
    "            break\n",
    "    \n",
    "    current_node = right_node\n",
    "        \n",
    "\n"
   ]
  },
  {
   "cell_type": "code",
   "execution_count": 5,
   "metadata": {},
   "outputs": [
    {
     "name": "stdout",
     "output_type": "stream",
     "text": [
      "{'e': '0', 't': '10', 'a': '110', 'o': '1110', 'i': '11110', 'n': '111110', 's': '1111110', 'h': '11111110', 'r': '111111110', 'd': '1111111110', 'l': '11111111110', 'c': '111111111110', 'u': '1111111111110', 'm': '11111111111110', 'w': '111111111111110', 'f': '1111111111111110', 'g': '11111111111111110', 'y': '111111111111111110', 'p': '1111111111111111110', 'b': '11111111111111111110', 'v': '111111111111111111110', 'k': '1111111111111111111110', 'j': '11111111111111111111110', 'x': '111111111111111111111110', 'z': '1111111111111111111111110', 'q': '1111111111111111111111111'}\n",
      "26\n"
     ]
    }
   ],
   "source": [
    "# print out encodings and length to ensure that we did it correctly. (26 letters in the english alphabet)\n",
    "print(generated_encodings)\n",
    "print(len(generated_encodings))"
   ]
  },
  {
   "cell_type": "code",
   "execution_count": 6,
   "metadata": {},
   "outputs": [
    {
     "name": "stdout",
     "output_type": "stream",
     "text": [
      "Unencoded Bits: 4417784\n",
      "Encoded Bits: 4190274\n",
      "\n",
      "Raw Compression Ratio: 0.95\n"
     ]
    }
   ],
   "source": [
    "# I have downloaded a file from gutenberg.org\n",
    "# Pride & Prejudice is available here (https://www.gutenberg.org/files/1342/1342-0.txt) NOT included in repo.\n",
    "with open(os.path.join(os.getcwd(), \"pride_and_prejudice.txt\"), \"r\") as text_file:\n",
    "    input_string = text_file.read()\n",
    "    \n",
    "# init the encoded values\n",
    "encoded_string = \"\"\n",
    "unencoded_length = 0\n",
    "encoded_length = 0\n",
    "letters = generated_encodings.keys()\n",
    "\n",
    "# go through each letter in the text and if it is in the alphabet encode it using our new encodings.\n",
    "for letter in input_string:\n",
    "    letter = letter.lower()\n",
    "    if letter not in letters:\n",
    "        continue\n",
    "        \n",
    "    # add the encoded letter to the new string.\n",
    "    encoded_letter = generated_encodings[letter]\n",
    "    encoded_string += encoded_letter\n",
    "    \n",
    "    # each letter unencoded is 8. I did not know how to do the compressed version so I just counted the length\n",
    "    unencoded_length += 8\n",
    "    encoded_length += len(encoded_letter)\n",
    "    \n",
    "    encoded_string += \" \"\n",
    "    \n",
    "# output the encodings and ratio\n",
    "print(f\"Unencoded Bits: {unencoded_length}\\nEncoded Bits: {encoded_length}\\n\")\n",
    "print(f\"Raw Compression Ratio: {round(encoded_length/unencoded_length, 2)}\")\n"
   ]
  },
  {
   "cell_type": "code",
   "execution_count": null,
   "metadata": {},
   "outputs": [],
   "source": []
  }
 ],
 "metadata": {
  "kernelspec": {
   "display_name": "Python 3",
   "language": "python",
   "name": "python3"
  },
  "language_info": {
   "codemirror_mode": {
    "name": "ipython",
    "version": 3
   },
   "file_extension": ".py",
   "mimetype": "text/x-python",
   "name": "python",
   "nbconvert_exporter": "python",
   "pygments_lexer": "ipython3",
   "version": "3.8.5"
  }
 },
 "nbformat": 4,
 "nbformat_minor": 4
}
